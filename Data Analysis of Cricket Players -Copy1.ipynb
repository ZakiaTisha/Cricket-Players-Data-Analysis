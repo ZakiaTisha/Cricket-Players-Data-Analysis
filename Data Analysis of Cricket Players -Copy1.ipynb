{
 "cells": [
  {
   "cell_type": "markdown",
   "metadata": {},
   "source": [
    "# Reading the CSV File\n"
   ]
  },
  {
   "cell_type": "code",
   "execution_count": 17,
   "metadata": {},
   "outputs": [
    {
     "data": {
      "text/html": [
       "<div>\n",
       "<style scoped>\n",
       "    .dataframe tbody tr th:only-of-type {\n",
       "        vertical-align: middle;\n",
       "    }\n",
       "\n",
       "    .dataframe tbody tr th {\n",
       "        vertical-align: top;\n",
       "    }\n",
       "\n",
       "    .dataframe thead th {\n",
       "        text-align: right;\n",
       "    }\n",
       "</style>\n",
       "<table border=\"1\" class=\"dataframe\">\n",
       "  <thead>\n",
       "    <tr style=\"text-align: right;\">\n",
       "      <th></th>\n",
       "      <th>Player</th>\n",
       "      <th>Span</th>\n",
       "      <th>Mat</th>\n",
       "      <th>Inns</th>\n",
       "      <th>Balls</th>\n",
       "      <th>Runs</th>\n",
       "      <th>Wkts</th>\n",
       "      <th>BBI</th>\n",
       "      <th>BBM</th>\n",
       "      <th>Ave</th>\n",
       "      <th>Econ</th>\n",
       "      <th>SR</th>\n",
       "      <th>5</th>\n",
       "      <th>10</th>\n",
       "    </tr>\n",
       "  </thead>\n",
       "  <tbody>\n",
       "    <tr>\n",
       "      <th>0</th>\n",
       "      <td>M Muralitharan (ICC/SL)</td>\n",
       "      <td>1992-2010</td>\n",
       "      <td>133</td>\n",
       "      <td>230</td>\n",
       "      <td>44039</td>\n",
       "      <td>18180</td>\n",
       "      <td>800</td>\n",
       "      <td>9/51</td>\n",
       "      <td>16/220</td>\n",
       "      <td>22.72</td>\n",
       "      <td>2.47</td>\n",
       "      <td>55.0</td>\n",
       "      <td>67</td>\n",
       "      <td>22</td>\n",
       "    </tr>\n",
       "    <tr>\n",
       "      <th>1</th>\n",
       "      <td>SK Warne (AUS)</td>\n",
       "      <td>1992-2007</td>\n",
       "      <td>145</td>\n",
       "      <td>273</td>\n",
       "      <td>40705</td>\n",
       "      <td>17995</td>\n",
       "      <td>708</td>\n",
       "      <td>8/71</td>\n",
       "      <td>12/128</td>\n",
       "      <td>25.41</td>\n",
       "      <td>2.65</td>\n",
       "      <td>57.4</td>\n",
       "      <td>37</td>\n",
       "      <td>10</td>\n",
       "    </tr>\n",
       "    <tr>\n",
       "      <th>2</th>\n",
       "      <td>JM Anderson (ENG)</td>\n",
       "      <td>2003-2021</td>\n",
       "      <td>164*</td>\n",
       "      <td>304</td>\n",
       "      <td>35079</td>\n",
       "      <td>16575</td>\n",
       "      <td>623</td>\n",
       "      <td>7/42</td>\n",
       "      <td>11/71</td>\n",
       "      <td>26.60</td>\n",
       "      <td>2.83</td>\n",
       "      <td>56.3</td>\n",
       "      <td>30</td>\n",
       "      <td>3</td>\n",
       "    </tr>\n",
       "    <tr>\n",
       "      <th>3</th>\n",
       "      <td>A Kumble (INDIA)</td>\n",
       "      <td>1990-2008</td>\n",
       "      <td>132</td>\n",
       "      <td>236</td>\n",
       "      <td>40850</td>\n",
       "      <td>18355</td>\n",
       "      <td>619</td>\n",
       "      <td>10/74</td>\n",
       "      <td>14/149</td>\n",
       "      <td>29.65</td>\n",
       "      <td>2.69</td>\n",
       "      <td>65.9</td>\n",
       "      <td>35</td>\n",
       "      <td>8</td>\n",
       "    </tr>\n",
       "    <tr>\n",
       "      <th>4</th>\n",
       "      <td>GD McGrath (AUS)</td>\n",
       "      <td>1993-2007</td>\n",
       "      <td>124</td>\n",
       "      <td>243</td>\n",
       "      <td>29248</td>\n",
       "      <td>12186</td>\n",
       "      <td>563</td>\n",
       "      <td>8/24</td>\n",
       "      <td>10/27</td>\n",
       "      <td>21.64</td>\n",
       "      <td>2.49</td>\n",
       "      <td>51.9</td>\n",
       "      <td>29</td>\n",
       "      <td>3</td>\n",
       "    </tr>\n",
       "    <tr>\n",
       "      <th>...</th>\n",
       "      <td>...</td>\n",
       "      <td>...</td>\n",
       "      <td>...</td>\n",
       "      <td>...</td>\n",
       "      <td>...</td>\n",
       "      <td>...</td>\n",
       "      <td>...</td>\n",
       "      <td>...</td>\n",
       "      <td>...</td>\n",
       "      <td>...</td>\n",
       "      <td>...</td>\n",
       "      <td>...</td>\n",
       "      <td>...</td>\n",
       "      <td>...</td>\n",
       "    </tr>\n",
       "    <tr>\n",
       "      <th>74</th>\n",
       "      <td>SCG MacGill (AUS)</td>\n",
       "      <td>1998-2008</td>\n",
       "      <td>44</td>\n",
       "      <td>85</td>\n",
       "      <td>11237</td>\n",
       "      <td>6038</td>\n",
       "      <td>208</td>\n",
       "      <td>8/108</td>\n",
       "      <td>12/107</td>\n",
       "      <td>29.02</td>\n",
       "      <td>3.22</td>\n",
       "      <td>54.0</td>\n",
       "      <td>12</td>\n",
       "      <td>2</td>\n",
       "    </tr>\n",
       "    <tr>\n",
       "      <th>75</th>\n",
       "      <td>Saqlain Mushtaq (PAK)</td>\n",
       "      <td>1995-2004</td>\n",
       "      <td>49</td>\n",
       "      <td>86</td>\n",
       "      <td>14070</td>\n",
       "      <td>6206</td>\n",
       "      <td>208</td>\n",
       "      <td>8/164</td>\n",
       "      <td>10/155</td>\n",
       "      <td>29.83</td>\n",
       "      <td>2.64</td>\n",
       "      <td>67.6</td>\n",
       "      <td>13</td>\n",
       "      <td>3</td>\n",
       "    </tr>\n",
       "    <tr>\n",
       "      <th>76</th>\n",
       "      <td>AME Roberts (WI)</td>\n",
       "      <td>1974-1983</td>\n",
       "      <td>47</td>\n",
       "      <td>90</td>\n",
       "      <td>11135</td>\n",
       "      <td>5174</td>\n",
       "      <td>202</td>\n",
       "      <td>7/54</td>\n",
       "      <td>12/121</td>\n",
       "      <td>25.61</td>\n",
       "      <td>2.78</td>\n",
       "      <td>55.1</td>\n",
       "      <td>11</td>\n",
       "      <td>2</td>\n",
       "    </tr>\n",
       "    <tr>\n",
       "      <th>77</th>\n",
       "      <td>JA Snow (ENG)</td>\n",
       "      <td>1965-1976</td>\n",
       "      <td>49</td>\n",
       "      <td>93</td>\n",
       "      <td>12021</td>\n",
       "      <td>5387</td>\n",
       "      <td>202</td>\n",
       "      <td>7/40</td>\n",
       "      <td>10/142</td>\n",
       "      <td>26.66</td>\n",
       "      <td>2.68</td>\n",
       "      <td>59.5</td>\n",
       "      <td>8</td>\n",
       "      <td>1</td>\n",
       "    </tr>\n",
       "    <tr>\n",
       "      <th>78</th>\n",
       "      <td>JR Thomson (AUS)</td>\n",
       "      <td>1972-1985</td>\n",
       "      <td>51</td>\n",
       "      <td>90</td>\n",
       "      <td>10535</td>\n",
       "      <td>5601</td>\n",
       "      <td>200</td>\n",
       "      <td>6/46</td>\n",
       "      <td>9/105</td>\n",
       "      <td>28.00</td>\n",
       "      <td>3.18</td>\n",
       "      <td>52.6</td>\n",
       "      <td>8</td>\n",
       "      <td>0</td>\n",
       "    </tr>\n",
       "  </tbody>\n",
       "</table>\n",
       "<p>79 rows × 14 columns</p>\n",
       "</div>"
      ],
      "text/plain": [
       "                     Player       Span   Mat  Inns  Balls   Runs  Wkts    BBI  \\\n",
       "0   M Muralitharan (ICC/SL)  1992-2010   133   230  44039  18180   800   9/51   \n",
       "1            SK Warne (AUS)  1992-2007   145   273  40705  17995   708   8/71   \n",
       "2         JM Anderson (ENG)  2003-2021  164*   304  35079  16575   623   7/42   \n",
       "3          A Kumble (INDIA)  1990-2008   132   236  40850  18355   619  10/74   \n",
       "4          GD McGrath (AUS)  1993-2007   124   243  29248  12186   563   8/24   \n",
       "..                      ...        ...   ...   ...    ...    ...   ...    ...   \n",
       "74        SCG MacGill (AUS)  1998-2008    44    85  11237   6038   208  8/108   \n",
       "75    Saqlain Mushtaq (PAK)  1995-2004    49    86  14070   6206   208  8/164   \n",
       "76         AME Roberts (WI)  1974-1983    47    90  11135   5174   202   7/54   \n",
       "77            JA Snow (ENG)  1965-1976    49    93  12021   5387   202   7/40   \n",
       "78         JR Thomson (AUS)  1972-1985    51    90  10535   5601   200   6/46   \n",
       "\n",
       "       BBM    Ave  Econ    SR   5  10  \n",
       "0   16/220  22.72  2.47  55.0  67  22  \n",
       "1   12/128  25.41  2.65  57.4  37  10  \n",
       "2    11/71  26.60  2.83  56.3  30   3  \n",
       "3   14/149  29.65  2.69  65.9  35   8  \n",
       "4    10/27  21.64  2.49  51.9  29   3  \n",
       "..     ...    ...   ...   ...  ..  ..  \n",
       "74  12/107  29.02  3.22  54.0  12   2  \n",
       "75  10/155  29.83  2.64  67.6  13   3  \n",
       "76  12/121  25.61  2.78  55.1  11   2  \n",
       "77  10/142  26.66  2.68  59.5   8   1  \n",
       "78   9/105  28.00  3.18  52.6   8   0  \n",
       "\n",
       "[79 rows x 14 columns]"
      ]
     },
     "execution_count": 17,
     "metadata": {},
     "output_type": "execute_result"
    }
   ],
   "source": [
    "import pandas as pd \n",
    "df = pd.read_csv(\"wicket.csv\")\n",
    "df"
   ]
  },
  {
   "cell_type": "markdown",
   "metadata": {},
   "source": [
    "#  the shape of the DataSet "
   ]
  },
  {
   "cell_type": "code",
   "execution_count": 5,
   "metadata": {},
   "outputs": [
    {
     "data": {
      "text/plain": [
       "(79, 14)"
      ]
     },
     "execution_count": 5,
     "metadata": {},
     "output_type": "execute_result"
    }
   ],
   "source": [
    "df.shape"
   ]
  },
  {
   "cell_type": "markdown",
   "metadata": {},
   "source": [
    "# Spliting Country Name "
   ]
  },
  {
   "cell_type": "code",
   "execution_count": 25,
   "metadata": {},
   "outputs": [
    {
     "data": {
      "text/html": [
       "<div>\n",
       "<style scoped>\n",
       "    .dataframe tbody tr th:only-of-type {\n",
       "        vertical-align: middle;\n",
       "    }\n",
       "\n",
       "    .dataframe tbody tr th {\n",
       "        vertical-align: top;\n",
       "    }\n",
       "\n",
       "    .dataframe thead th {\n",
       "        text-align: right;\n",
       "    }\n",
       "</style>\n",
       "<table border=\"1\" class=\"dataframe\">\n",
       "  <thead>\n",
       "    <tr style=\"text-align: right;\">\n",
       "      <th></th>\n",
       "      <th>Player</th>\n",
       "      <th>Span</th>\n",
       "      <th>Mat</th>\n",
       "      <th>Inns</th>\n",
       "      <th>Balls</th>\n",
       "      <th>Runs</th>\n",
       "      <th>Wkts</th>\n",
       "      <th>Ave</th>\n",
       "      <th>Econ</th>\n",
       "      <th>SR</th>\n",
       "      <th>5</th>\n",
       "      <th>10</th>\n",
       "    </tr>\n",
       "  </thead>\n",
       "  <tbody>\n",
       "    <tr>\n",
       "      <th>0</th>\n",
       "      <td>M Muralitharan ICC/SL</td>\n",
       "      <td>1992-2010</td>\n",
       "      <td>133</td>\n",
       "      <td>230</td>\n",
       "      <td>44039</td>\n",
       "      <td>18180</td>\n",
       "      <td>800</td>\n",
       "      <td>22.72</td>\n",
       "      <td>2.47</td>\n",
       "      <td>55.0</td>\n",
       "      <td>67</td>\n",
       "      <td>22</td>\n",
       "    </tr>\n",
       "    <tr>\n",
       "      <th>1</th>\n",
       "      <td>SK Warne AUS</td>\n",
       "      <td>1992-2007</td>\n",
       "      <td>145</td>\n",
       "      <td>273</td>\n",
       "      <td>40705</td>\n",
       "      <td>17995</td>\n",
       "      <td>708</td>\n",
       "      <td>25.41</td>\n",
       "      <td>2.65</td>\n",
       "      <td>57.4</td>\n",
       "      <td>37</td>\n",
       "      <td>10</td>\n",
       "    </tr>\n",
       "    <tr>\n",
       "      <th>2</th>\n",
       "      <td>JM Anderson ENG</td>\n",
       "      <td>2003-2021</td>\n",
       "      <td>164*</td>\n",
       "      <td>304</td>\n",
       "      <td>35079</td>\n",
       "      <td>16575</td>\n",
       "      <td>623</td>\n",
       "      <td>26.60</td>\n",
       "      <td>2.83</td>\n",
       "      <td>56.3</td>\n",
       "      <td>30</td>\n",
       "      <td>3</td>\n",
       "    </tr>\n",
       "    <tr>\n",
       "      <th>3</th>\n",
       "      <td>A Kumble INDIA</td>\n",
       "      <td>1990-2008</td>\n",
       "      <td>132</td>\n",
       "      <td>236</td>\n",
       "      <td>40850</td>\n",
       "      <td>18355</td>\n",
       "      <td>619</td>\n",
       "      <td>29.65</td>\n",
       "      <td>2.69</td>\n",
       "      <td>65.9</td>\n",
       "      <td>35</td>\n",
       "      <td>8</td>\n",
       "    </tr>\n",
       "    <tr>\n",
       "      <th>4</th>\n",
       "      <td>GD McGrath AUS</td>\n",
       "      <td>1993-2007</td>\n",
       "      <td>124</td>\n",
       "      <td>243</td>\n",
       "      <td>29248</td>\n",
       "      <td>12186</td>\n",
       "      <td>563</td>\n",
       "      <td>21.64</td>\n",
       "      <td>2.49</td>\n",
       "      <td>51.9</td>\n",
       "      <td>29</td>\n",
       "      <td>3</td>\n",
       "    </tr>\n",
       "  </tbody>\n",
       "</table>\n",
       "</div>"
      ],
      "text/plain": [
       "                  Player       Span   Mat  Inns  Balls   Runs  Wkts    Ave  \\\n",
       "0  M Muralitharan ICC/SL  1992-2010   133   230  44039  18180   800  22.72   \n",
       "1           SK Warne AUS  1992-2007   145   273  40705  17995   708  25.41   \n",
       "2        JM Anderson ENG  2003-2021  164*   304  35079  16575   623  26.60   \n",
       "3         A Kumble INDIA  1990-2008   132   236  40850  18355   619  29.65   \n",
       "4         GD McGrath AUS  1993-2007   124   243  29248  12186   563  21.64   \n",
       "\n",
       "   Econ    SR   5  10  \n",
       "0  2.47  55.0  67  22  \n",
       "1  2.65  57.4  37  10  \n",
       "2  2.83  56.3  30   3  \n",
       "3  2.69  65.9  35   8  \n",
       "4  2.49  51.9  29   3  "
      ]
     },
     "metadata": {},
     "output_type": "display_data"
    }
   ],
   "source": [
    "file = df.copy()\n",
    "\n",
    "file['Player'] = file['Player'].str.replace(\"(\", \"\")\n",
    "file['Player'] = file['Player'].str.replace(\")\", \"\")\n",
    "file['Player'] = file['Player'].str.replace(\"\\xa0\", \" \")\n",
    "\n",
    "display(file.head())"
   ]
  },
  {
   "cell_type": "code",
   "execution_count": 61,
   "metadata": {},
   "outputs": [
    {
     "name": "stdout",
     "output_type": "stream",
     "text": [
      "<class 'pandas.core.frame.DataFrame'>\n"
     ]
    },
    {
     "data": {
      "text/html": [
       "<div>\n",
       "<style scoped>\n",
       "    .dataframe tbody tr th:only-of-type {\n",
       "        vertical-align: middle;\n",
       "    }\n",
       "\n",
       "    .dataframe tbody tr th {\n",
       "        vertical-align: top;\n",
       "    }\n",
       "\n",
       "    .dataframe thead th {\n",
       "        text-align: right;\n",
       "    }\n",
       "</style>\n",
       "<table border=\"1\" class=\"dataframe\">\n",
       "  <thead>\n",
       "    <tr style=\"text-align: right;\">\n",
       "      <th></th>\n",
       "      <th>Player</th>\n",
       "      <th>Country</th>\n",
       "    </tr>\n",
       "  </thead>\n",
       "  <tbody>\n",
       "    <tr>\n",
       "      <th>0</th>\n",
       "      <td>[M, Muralitharan, ICC/SL]</td>\n",
       "      <td>ICC/SL</td>\n",
       "    </tr>\n",
       "    <tr>\n",
       "      <th>1</th>\n",
       "      <td>[SK, Warne, AUS]</td>\n",
       "      <td>AUS</td>\n",
       "    </tr>\n",
       "    <tr>\n",
       "      <th>2</th>\n",
       "      <td>[JM, Anderson, ENG]</td>\n",
       "      <td>ENG</td>\n",
       "    </tr>\n",
       "    <tr>\n",
       "      <th>3</th>\n",
       "      <td>[A, Kumble, INDIA]</td>\n",
       "      <td>INDIA</td>\n",
       "    </tr>\n",
       "    <tr>\n",
       "      <th>4</th>\n",
       "      <td>[GD, McGrath, AUS]</td>\n",
       "      <td>AUS</td>\n",
       "    </tr>\n",
       "  </tbody>\n",
       "</table>\n",
       "</div>"
      ],
      "text/plain": [
       "                      Player Country\n",
       "0  [M, Muralitharan, ICC/SL]  ICC/SL\n",
       "1           [SK, Warne, AUS]     AUS\n",
       "2        [JM, Anderson, ENG]     ENG\n",
       "3         [A, Kumble, INDIA]   INDIA\n",
       "4         [GD, McGrath, AUS]     AUS"
      ]
     },
     "metadata": {},
     "output_type": "display_data"
    }
   ],
   "source": [
    "\n",
    "file_player = pd.DataFrame(file_player)\n",
    "\n",
    "file_player['Country'] = file_player['Player'].str[-1]\n",
    "\n",
    "print(type(file_player))\n",
    "\n",
    "display(file_player.head())"
   ]
  },
  {
   "cell_type": "markdown",
   "metadata": {},
   "source": [
    "# Played for ICC"
   ]
  },
  {
   "cell_type": "code",
   "execution_count": 31,
   "metadata": {},
   "outputs": [],
   "source": [
    "\n",
    "def icc_check(x):\n",
    "    if \"ICC\" in x:\n",
    "        return \"Yes\"\n",
    "    else:\n",
    "        return \"No\"\n"
   ]
  },
  {
   "cell_type": "code",
   "execution_count": 34,
   "metadata": {},
   "outputs": [
    {
     "data": {
      "text/plain": [
       "0     Yes\n",
       "1      No\n",
       "2      No\n",
       "3      No\n",
       "4      No\n",
       "     ... \n",
       "74     No\n",
       "75     No\n",
       "76     No\n",
       "77     No\n",
       "78     No\n",
       "Name: played_for_ICC, Length: 79, dtype: object"
      ]
     },
     "execution_count": 34,
     "metadata": {},
     "output_type": "execute_result"
    }
   ],
   "source": [
    "df['played_for_ICC'] = file_player['Country'].apply(icc_check)\n",
    "df['played_for_ICC']"
   ]
  },
  {
   "cell_type": "code",
   "execution_count": 38,
   "metadata": {},
   "outputs": [
    {
     "data": {
      "text/plain": [
       "No     74\n",
       "Yes     5\n",
       "Name: played_for_ICC, dtype: int64"
      ]
     },
     "execution_count": 38,
     "metadata": {},
     "output_type": "execute_result"
    }
   ],
   "source": [
    "df['played_for_ICC'].value_counts()"
   ]
  },
  {
   "cell_type": "markdown",
   "metadata": {},
   "source": [
    "Number oF Players played for icc is : 5 \n",
    "\n"
   ]
  },
  {
   "cell_type": "markdown",
   "metadata": {},
   "source": [
    "# Played For Australia"
   ]
  },
  {
   "cell_type": "code",
   "execution_count": 42,
   "metadata": {},
   "outputs": [
    {
     "data": {
      "text/html": [
       "<div>\n",
       "<style scoped>\n",
       "    .dataframe tbody tr th:only-of-type {\n",
       "        vertical-align: middle;\n",
       "    }\n",
       "\n",
       "    .dataframe tbody tr th {\n",
       "        vertical-align: top;\n",
       "    }\n",
       "\n",
       "    .dataframe thead th {\n",
       "        text-align: right;\n",
       "    }\n",
       "</style>\n",
       "<table border=\"1\" class=\"dataframe\">\n",
       "  <thead>\n",
       "    <tr style=\"text-align: right;\">\n",
       "      <th></th>\n",
       "      <th>Player</th>\n",
       "      <th>Country</th>\n",
       "    </tr>\n",
       "  </thead>\n",
       "  <tbody>\n",
       "    <tr>\n",
       "      <th>0</th>\n",
       "      <td>[M, Muralitharan, ICC/SL]</td>\n",
       "      <td>ICC/SL</td>\n",
       "    </tr>\n",
       "    <tr>\n",
       "      <th>1</th>\n",
       "      <td>[SK, Warne, AUS]</td>\n",
       "      <td>AUS</td>\n",
       "    </tr>\n",
       "    <tr>\n",
       "      <th>2</th>\n",
       "      <td>[JM, Anderson, ENG]</td>\n",
       "      <td>ENG</td>\n",
       "    </tr>\n",
       "    <tr>\n",
       "      <th>3</th>\n",
       "      <td>[A, Kumble, INDIA]</td>\n",
       "      <td>INDIA</td>\n",
       "    </tr>\n",
       "    <tr>\n",
       "      <th>4</th>\n",
       "      <td>[GD, McGrath, AUS]</td>\n",
       "      <td>AUS</td>\n",
       "    </tr>\n",
       "    <tr>\n",
       "      <th>...</th>\n",
       "      <td>...</td>\n",
       "      <td>...</td>\n",
       "    </tr>\n",
       "    <tr>\n",
       "      <th>74</th>\n",
       "      <td>[SCG, MacGill, AUS]</td>\n",
       "      <td>AUS</td>\n",
       "    </tr>\n",
       "    <tr>\n",
       "      <th>75</th>\n",
       "      <td>[Saqlain, Mushtaq, PAK]</td>\n",
       "      <td>PAK</td>\n",
       "    </tr>\n",
       "    <tr>\n",
       "      <th>76</th>\n",
       "      <td>[AME, Roberts, WI]</td>\n",
       "      <td>WI</td>\n",
       "    </tr>\n",
       "    <tr>\n",
       "      <th>77</th>\n",
       "      <td>[JA, Snow, ENG]</td>\n",
       "      <td>ENG</td>\n",
       "    </tr>\n",
       "    <tr>\n",
       "      <th>78</th>\n",
       "      <td>[JR, Thomson, AUS]</td>\n",
       "      <td>AUS</td>\n",
       "    </tr>\n",
       "  </tbody>\n",
       "</table>\n",
       "<p>79 rows × 2 columns</p>\n",
       "</div>"
      ],
      "text/plain": [
       "                       Player Country\n",
       "0   [M, Muralitharan, ICC/SL]  ICC/SL\n",
       "1            [SK, Warne, AUS]     AUS\n",
       "2         [JM, Anderson, ENG]     ENG\n",
       "3          [A, Kumble, INDIA]   INDIA\n",
       "4          [GD, McGrath, AUS]     AUS\n",
       "..                        ...     ...\n",
       "74        [SCG, MacGill, AUS]     AUS\n",
       "75    [Saqlain, Mushtaq, PAK]     PAK\n",
       "76         [AME, Roberts, WI]      WI\n",
       "77            [JA, Snow, ENG]     ENG\n",
       "78         [JR, Thomson, AUS]     AUS\n",
       "\n",
       "[79 rows x 2 columns]"
      ]
     },
     "execution_count": 42,
     "metadata": {},
     "output_type": "execute_result"
    }
   ],
   "source": [
    "file_player"
   ]
  },
  {
   "cell_type": "code",
   "execution_count": 43,
   "metadata": {},
   "outputs": [
    {
     "data": {
      "text/plain": [
       "0      No\n",
       "1     Yes\n",
       "2      No\n",
       "3      No\n",
       "4     Yes\n",
       "     ... \n",
       "74    Yes\n",
       "75     No\n",
       "76     No\n",
       "77     No\n",
       "78    Yes\n",
       "Name: played_for_Australia, Length: 79, dtype: object"
      ]
     },
     "execution_count": 43,
     "metadata": {},
     "output_type": "execute_result"
    }
   ],
   "source": [
    "def AUS_check(x):\n",
    "    if \"AUS\" in x:\n",
    "        return \"Yes\"\n",
    "    else:\n",
    "        return \"No\"\n",
    "\n",
    "\n",
    "\n",
    "\n",
    "df['played_for_Australia'] = file_player['Country'].apply(AUS_check)\n",
    "df['played_for_Australia']"
   ]
  },
  {
   "cell_type": "code",
   "execution_count": 45,
   "metadata": {},
   "outputs": [
    {
     "data": {
      "text/plain": [
       "No     61\n",
       "Yes    18\n",
       "Name: played_for_Australia, dtype: int64"
      ]
     },
     "execution_count": 45,
     "metadata": {},
     "output_type": "execute_result"
    }
   ],
   "source": [
    "df['played_for_Australia'].value_counts()"
   ]
  },
  {
   "cell_type": "markdown",
   "metadata": {},
   "source": [
    "played_for_Australia = 18 PLAYERS "
   ]
  },
  {
   "cell_type": "markdown",
   "metadata": {},
   "source": [
    "# Played For Bangladesh "
   ]
  },
  {
   "cell_type": "code",
   "execution_count": 47,
   "metadata": {},
   "outputs": [
    {
     "data": {
      "text/html": [
       "<div>\n",
       "<style scoped>\n",
       "    .dataframe tbody tr th:only-of-type {\n",
       "        vertical-align: middle;\n",
       "    }\n",
       "\n",
       "    .dataframe tbody tr th {\n",
       "        vertical-align: top;\n",
       "    }\n",
       "\n",
       "    .dataframe thead th {\n",
       "        text-align: right;\n",
       "    }\n",
       "</style>\n",
       "<table border=\"1\" class=\"dataframe\">\n",
       "  <thead>\n",
       "    <tr style=\"text-align: right;\">\n",
       "      <th></th>\n",
       "      <th>Player</th>\n",
       "      <th>Country</th>\n",
       "    </tr>\n",
       "  </thead>\n",
       "  <tbody>\n",
       "    <tr>\n",
       "      <th>0</th>\n",
       "      <td>[M, Muralitharan, ICC/SL]</td>\n",
       "      <td>ICC/SL</td>\n",
       "    </tr>\n",
       "    <tr>\n",
       "      <th>1</th>\n",
       "      <td>[SK, Warne, AUS]</td>\n",
       "      <td>AUS</td>\n",
       "    </tr>\n",
       "    <tr>\n",
       "      <th>2</th>\n",
       "      <td>[JM, Anderson, ENG]</td>\n",
       "      <td>ENG</td>\n",
       "    </tr>\n",
       "    <tr>\n",
       "      <th>3</th>\n",
       "      <td>[A, Kumble, INDIA]</td>\n",
       "      <td>INDIA</td>\n",
       "    </tr>\n",
       "    <tr>\n",
       "      <th>4</th>\n",
       "      <td>[GD, McGrath, AUS]</td>\n",
       "      <td>AUS</td>\n",
       "    </tr>\n",
       "    <tr>\n",
       "      <th>...</th>\n",
       "      <td>...</td>\n",
       "      <td>...</td>\n",
       "    </tr>\n",
       "    <tr>\n",
       "      <th>74</th>\n",
       "      <td>[SCG, MacGill, AUS]</td>\n",
       "      <td>AUS</td>\n",
       "    </tr>\n",
       "    <tr>\n",
       "      <th>75</th>\n",
       "      <td>[Saqlain, Mushtaq, PAK]</td>\n",
       "      <td>PAK</td>\n",
       "    </tr>\n",
       "    <tr>\n",
       "      <th>76</th>\n",
       "      <td>[AME, Roberts, WI]</td>\n",
       "      <td>WI</td>\n",
       "    </tr>\n",
       "    <tr>\n",
       "      <th>77</th>\n",
       "      <td>[JA, Snow, ENG]</td>\n",
       "      <td>ENG</td>\n",
       "    </tr>\n",
       "    <tr>\n",
       "      <th>78</th>\n",
       "      <td>[JR, Thomson, AUS]</td>\n",
       "      <td>AUS</td>\n",
       "    </tr>\n",
       "  </tbody>\n",
       "</table>\n",
       "<p>79 rows × 2 columns</p>\n",
       "</div>"
      ],
      "text/plain": [
       "                       Player Country\n",
       "0   [M, Muralitharan, ICC/SL]  ICC/SL\n",
       "1            [SK, Warne, AUS]     AUS\n",
       "2         [JM, Anderson, ENG]     ENG\n",
       "3          [A, Kumble, INDIA]   INDIA\n",
       "4          [GD, McGrath, AUS]     AUS\n",
       "..                        ...     ...\n",
       "74        [SCG, MacGill, AUS]     AUS\n",
       "75    [Saqlain, Mushtaq, PAK]     PAK\n",
       "76         [AME, Roberts, WI]      WI\n",
       "77            [JA, Snow, ENG]     ENG\n",
       "78         [JR, Thomson, AUS]     AUS\n",
       "\n",
       "[79 rows x 2 columns]"
      ]
     },
     "metadata": {},
     "output_type": "display_data"
    },
    {
     "data": {
      "text/plain": [
       "0     No\n",
       "1     No\n",
       "2     No\n",
       "3     No\n",
       "4     No\n",
       "      ..\n",
       "74    No\n",
       "75    No\n",
       "76    No\n",
       "77    No\n",
       "78    No\n",
       "Name: played_for_Bangladesh, Length: 79, dtype: object"
      ]
     },
     "execution_count": 47,
     "metadata": {},
     "output_type": "execute_result"
    }
   ],
   "source": [
    "display(file_player)\n",
    "def BD_check(x):\n",
    "    if \"BD\" in x:\n",
    "        return \"Yes\"\n",
    "    else:\n",
    "        return \"No\"\n",
    "\n",
    "\n",
    "\n",
    "\n",
    "df['played_for_Bangladesh'] = file_player['Country'].apply(BD_check)\n",
    "df['played_for_Bangladesh']"
   ]
  },
  {
   "cell_type": "code",
   "execution_count": 48,
   "metadata": {},
   "outputs": [
    {
     "data": {
      "text/plain": [
       "No     78\n",
       "Yes     1\n",
       "Name: played_for_Bangladesh, dtype: int64"
      ]
     },
     "execution_count": 48,
     "metadata": {},
     "output_type": "execute_result"
    }
   ],
   "source": [
    "df['played_for_Bangladesh'].value_counts()"
   ]
  },
  {
   "cell_type": "markdown",
   "metadata": {},
   "source": [
    "Number of players played for Bangladesh = 1"
   ]
  },
  {
   "cell_type": "code",
   "execution_count": 56,
   "metadata": {},
   "outputs": [
    {
     "data": {
      "text/html": [
       "<div>\n",
       "<style scoped>\n",
       "    .dataframe tbody tr th:only-of-type {\n",
       "        vertical-align: middle;\n",
       "    }\n",
       "\n",
       "    .dataframe tbody tr th {\n",
       "        vertical-align: top;\n",
       "    }\n",
       "\n",
       "    .dataframe thead th {\n",
       "        text-align: right;\n",
       "    }\n",
       "</style>\n",
       "<table border=\"1\" class=\"dataframe\">\n",
       "  <thead>\n",
       "    <tr style=\"text-align: right;\">\n",
       "      <th></th>\n",
       "      <th>Span</th>\n",
       "      <th>Mat</th>\n",
       "      <th>Inns</th>\n",
       "      <th>Balls</th>\n",
       "      <th>Runs</th>\n",
       "      <th>Wkts</th>\n",
       "      <th>Ave</th>\n",
       "      <th>Econ</th>\n",
       "      <th>SR</th>\n",
       "      <th>5</th>\n",
       "      <th>10</th>\n",
       "      <th>0</th>\n",
       "      <th>1</th>\n",
       "      <th>played_for_ICC</th>\n",
       "      <th>played_for_Australia</th>\n",
       "      <th>played_for_Bangladesh</th>\n",
       "      <th>Economy_Rate</th>\n",
       "    </tr>\n",
       "  </thead>\n",
       "  <tbody>\n",
       "    <tr>\n",
       "      <th>0</th>\n",
       "      <td>1992-2010</td>\n",
       "      <td>133</td>\n",
       "      <td>230</td>\n",
       "      <td>44039</td>\n",
       "      <td>18180</td>\n",
       "      <td>800</td>\n",
       "      <td>22.72</td>\n",
       "      <td>2.47</td>\n",
       "      <td>55.0</td>\n",
       "      <td>67</td>\n",
       "      <td>22</td>\n",
       "      <td>M Muralitharan</td>\n",
       "      <td>ICC/SL)</td>\n",
       "      <td>Yes</td>\n",
       "      <td>No</td>\n",
       "      <td>No</td>\n",
       "      <td>2.47</td>\n",
       "    </tr>\n",
       "    <tr>\n",
       "      <th>1</th>\n",
       "      <td>1992-2007</td>\n",
       "      <td>145</td>\n",
       "      <td>273</td>\n",
       "      <td>40705</td>\n",
       "      <td>17995</td>\n",
       "      <td>708</td>\n",
       "      <td>25.41</td>\n",
       "      <td>2.65</td>\n",
       "      <td>57.4</td>\n",
       "      <td>37</td>\n",
       "      <td>10</td>\n",
       "      <td>SK Warne</td>\n",
       "      <td>AUS)</td>\n",
       "      <td>No</td>\n",
       "      <td>Yes</td>\n",
       "      <td>No</td>\n",
       "      <td>2.65</td>\n",
       "    </tr>\n",
       "    <tr>\n",
       "      <th>2</th>\n",
       "      <td>2003-2021</td>\n",
       "      <td>164*</td>\n",
       "      <td>304</td>\n",
       "      <td>35079</td>\n",
       "      <td>16575</td>\n",
       "      <td>623</td>\n",
       "      <td>26.60</td>\n",
       "      <td>2.83</td>\n",
       "      <td>56.3</td>\n",
       "      <td>30</td>\n",
       "      <td>3</td>\n",
       "      <td>JM Anderson</td>\n",
       "      <td>ENG)</td>\n",
       "      <td>No</td>\n",
       "      <td>No</td>\n",
       "      <td>No</td>\n",
       "      <td>2.83</td>\n",
       "    </tr>\n",
       "    <tr>\n",
       "      <th>3</th>\n",
       "      <td>1990-2008</td>\n",
       "      <td>132</td>\n",
       "      <td>236</td>\n",
       "      <td>40850</td>\n",
       "      <td>18355</td>\n",
       "      <td>619</td>\n",
       "      <td>29.65</td>\n",
       "      <td>2.69</td>\n",
       "      <td>65.9</td>\n",
       "      <td>35</td>\n",
       "      <td>8</td>\n",
       "      <td>A Kumble</td>\n",
       "      <td>INDIA)</td>\n",
       "      <td>No</td>\n",
       "      <td>No</td>\n",
       "      <td>No</td>\n",
       "      <td>2.69</td>\n",
       "    </tr>\n",
       "    <tr>\n",
       "      <th>4</th>\n",
       "      <td>1993-2007</td>\n",
       "      <td>124</td>\n",
       "      <td>243</td>\n",
       "      <td>29248</td>\n",
       "      <td>12186</td>\n",
       "      <td>563</td>\n",
       "      <td>21.64</td>\n",
       "      <td>2.49</td>\n",
       "      <td>51.9</td>\n",
       "      <td>29</td>\n",
       "      <td>3</td>\n",
       "      <td>GD McGrath</td>\n",
       "      <td>AUS)</td>\n",
       "      <td>No</td>\n",
       "      <td>Yes</td>\n",
       "      <td>No</td>\n",
       "      <td>2.49</td>\n",
       "    </tr>\n",
       "    <tr>\n",
       "      <th>...</th>\n",
       "      <td>...</td>\n",
       "      <td>...</td>\n",
       "      <td>...</td>\n",
       "      <td>...</td>\n",
       "      <td>...</td>\n",
       "      <td>...</td>\n",
       "      <td>...</td>\n",
       "      <td>...</td>\n",
       "      <td>...</td>\n",
       "      <td>...</td>\n",
       "      <td>...</td>\n",
       "      <td>...</td>\n",
       "      <td>...</td>\n",
       "      <td>...</td>\n",
       "      <td>...</td>\n",
       "      <td>...</td>\n",
       "      <td>...</td>\n",
       "    </tr>\n",
       "    <tr>\n",
       "      <th>74</th>\n",
       "      <td>1998-2008</td>\n",
       "      <td>44</td>\n",
       "      <td>85</td>\n",
       "      <td>11237</td>\n",
       "      <td>6038</td>\n",
       "      <td>208</td>\n",
       "      <td>29.02</td>\n",
       "      <td>3.22</td>\n",
       "      <td>54.0</td>\n",
       "      <td>12</td>\n",
       "      <td>2</td>\n",
       "      <td>SCG MacGill</td>\n",
       "      <td>AUS)</td>\n",
       "      <td>No</td>\n",
       "      <td>Yes</td>\n",
       "      <td>No</td>\n",
       "      <td>3.22</td>\n",
       "    </tr>\n",
       "    <tr>\n",
       "      <th>75</th>\n",
       "      <td>1995-2004</td>\n",
       "      <td>49</td>\n",
       "      <td>86</td>\n",
       "      <td>14070</td>\n",
       "      <td>6206</td>\n",
       "      <td>208</td>\n",
       "      <td>29.83</td>\n",
       "      <td>2.64</td>\n",
       "      <td>67.6</td>\n",
       "      <td>13</td>\n",
       "      <td>3</td>\n",
       "      <td>Saqlain Mushtaq</td>\n",
       "      <td>PAK)</td>\n",
       "      <td>No</td>\n",
       "      <td>No</td>\n",
       "      <td>No</td>\n",
       "      <td>2.64</td>\n",
       "    </tr>\n",
       "    <tr>\n",
       "      <th>76</th>\n",
       "      <td>1974-1983</td>\n",
       "      <td>47</td>\n",
       "      <td>90</td>\n",
       "      <td>11135</td>\n",
       "      <td>5174</td>\n",
       "      <td>202</td>\n",
       "      <td>25.61</td>\n",
       "      <td>2.78</td>\n",
       "      <td>55.1</td>\n",
       "      <td>11</td>\n",
       "      <td>2</td>\n",
       "      <td>AME Roberts</td>\n",
       "      <td>WI)</td>\n",
       "      <td>No</td>\n",
       "      <td>No</td>\n",
       "      <td>No</td>\n",
       "      <td>2.78</td>\n",
       "    </tr>\n",
       "    <tr>\n",
       "      <th>77</th>\n",
       "      <td>1965-1976</td>\n",
       "      <td>49</td>\n",
       "      <td>93</td>\n",
       "      <td>12021</td>\n",
       "      <td>5387</td>\n",
       "      <td>202</td>\n",
       "      <td>26.66</td>\n",
       "      <td>2.68</td>\n",
       "      <td>59.5</td>\n",
       "      <td>8</td>\n",
       "      <td>1</td>\n",
       "      <td>JA Snow</td>\n",
       "      <td>ENG)</td>\n",
       "      <td>No</td>\n",
       "      <td>No</td>\n",
       "      <td>No</td>\n",
       "      <td>2.68</td>\n",
       "    </tr>\n",
       "    <tr>\n",
       "      <th>78</th>\n",
       "      <td>1972-1985</td>\n",
       "      <td>51</td>\n",
       "      <td>90</td>\n",
       "      <td>10535</td>\n",
       "      <td>5601</td>\n",
       "      <td>200</td>\n",
       "      <td>28.00</td>\n",
       "      <td>3.18</td>\n",
       "      <td>52.6</td>\n",
       "      <td>8</td>\n",
       "      <td>0</td>\n",
       "      <td>JR Thomson</td>\n",
       "      <td>AUS)</td>\n",
       "      <td>No</td>\n",
       "      <td>Yes</td>\n",
       "      <td>No</td>\n",
       "      <td>3.18</td>\n",
       "    </tr>\n",
       "  </tbody>\n",
       "</table>\n",
       "<p>79 rows × 17 columns</p>\n",
       "</div>"
      ],
      "text/plain": [
       "         Span   Mat  Inns  Balls   Runs  Wkts    Ave  Econ    SR   5  10  \\\n",
       "0   1992-2010   133   230  44039  18180   800  22.72  2.47  55.0  67  22   \n",
       "1   1992-2007   145   273  40705  17995   708  25.41  2.65  57.4  37  10   \n",
       "2   2003-2021  164*   304  35079  16575   623  26.60  2.83  56.3  30   3   \n",
       "3   1990-2008   132   236  40850  18355   619  29.65  2.69  65.9  35   8   \n",
       "4   1993-2007   124   243  29248  12186   563  21.64  2.49  51.9  29   3   \n",
       "..        ...   ...   ...    ...    ...   ...    ...   ...   ...  ..  ..   \n",
       "74  1998-2008    44    85  11237   6038   208  29.02  3.22  54.0  12   2   \n",
       "75  1995-2004    49    86  14070   6206   208  29.83  2.64  67.6  13   3   \n",
       "76  1974-1983    47    90  11135   5174   202  25.61  2.78  55.1  11   2   \n",
       "77  1965-1976    49    93  12021   5387   202  26.66  2.68  59.5   8   1   \n",
       "78  1972-1985    51    90  10535   5601   200  28.00  3.18  52.6   8   0   \n",
       "\n",
       "                   0        1 played_for_ICC played_for_Australia  \\\n",
       "0    M Muralitharan   ICC/SL)            Yes                   No   \n",
       "1          SK Warne      AUS)             No                  Yes   \n",
       "2       JM Anderson      ENG)             No                   No   \n",
       "3          A Kumble    INDIA)             No                   No   \n",
       "4        GD McGrath      AUS)             No                  Yes   \n",
       "..               ...      ...            ...                  ...   \n",
       "74      SCG MacGill      AUS)             No                  Yes   \n",
       "75  Saqlain Mushtaq      PAK)             No                   No   \n",
       "76      AME Roberts       WI)             No                   No   \n",
       "77          JA Snow      ENG)             No                   No   \n",
       "78       JR Thomson      AUS)             No                  Yes   \n",
       "\n",
       "   played_for_Bangladesh  Economy_Rate  \n",
       "0                     No          2.47  \n",
       "1                     No          2.65  \n",
       "2                     No          2.83  \n",
       "3                     No          2.69  \n",
       "4                     No          2.49  \n",
       "..                   ...           ...  \n",
       "74                    No          3.22  \n",
       "75                    No          2.64  \n",
       "76                    No          2.78  \n",
       "77                    No          2.68  \n",
       "78                    No          3.18  \n",
       "\n",
       "[79 rows x 17 columns]"
      ]
     },
     "execution_count": 56,
     "metadata": {},
     "output_type": "execute_result"
    }
   ],
   "source": [
    "df"
   ]
  },
  {
   "cell_type": "markdown",
   "metadata": {},
   "source": [
    "# Calculating Economy Rate "
   ]
  },
  {
   "cell_type": "code",
   "execution_count": 52,
   "metadata": {},
   "outputs": [
    {
     "data": {
      "text/plain": [
       "0     2.47\n",
       "1     2.65\n",
       "2     2.83\n",
       "3     2.69\n",
       "4     2.49\n",
       "      ... \n",
       "74    3.22\n",
       "75    2.64\n",
       "76    2.78\n",
       "77    2.68\n",
       "78    3.18\n",
       "Name: Economy_Rate, Length: 79, dtype: float64"
      ]
     },
     "execution_count": 52,
     "metadata": {},
     "output_type": "execute_result"
    }
   ],
   "source": [
    "df['Economy_Rate'] = df['Econ']\n",
    "df['Economy_Rate']"
   ]
  },
  {
   "cell_type": "code",
   "execution_count": 53,
   "metadata": {},
   "outputs": [
    {
     "data": {
      "text/plain": [
       "2.97    3\n",
       "2.68    3\n",
       "2.83    3\n",
       "2.10    2\n",
       "3.30    2\n",
       "3.09    2\n",
       "2.78    2\n",
       "2.93    2\n",
       "3.22    2\n",
       "2.99    2\n",
       "2.63    2\n",
       "2.30    2\n",
       "2.80    2\n",
       "2.85    2\n",
       "2.98    2\n",
       "2.59    2\n",
       "2.47    2\n",
       "2.69    2\n",
       "2.54    1\n",
       "3.46    1\n",
       "2.75    1\n",
       "3.24    1\n",
       "2.53    1\n",
       "2.82    1\n",
       "2.64    1\n",
       "2.48    1\n",
       "2.21    1\n",
       "3.16    1\n",
       "2.45    1\n",
       "3.37    1\n",
       "2.74    1\n",
       "2.33    1\n",
       "2.65    1\n",
       "2.84    1\n",
       "3.01    1\n",
       "3.19    1\n",
       "3.10    1\n",
       "2.49    1\n",
       "2.71    1\n",
       "3.28    1\n",
       "3.26    1\n",
       "3.33    1\n",
       "3.35    1\n",
       "3.18    1\n",
       "2.22    1\n",
       "2.14    1\n",
       "1.98    1\n",
       "2.70    1\n",
       "2.79    1\n",
       "3.27    1\n",
       "3.23    1\n",
       "3.07    1\n",
       "2.16    1\n",
       "2.39    1\n",
       "2.61    1\n",
       "3.02    1\n",
       "2.92    1\n",
       "3.25    1\n",
       "Name: Economy_Rate, dtype: int64"
      ]
     },
     "execution_count": 53,
     "metadata": {},
     "output_type": "execute_result"
    }
   ],
   "source": [
    "df['Economy_Rate'].value_counts()"
   ]
  },
  {
   "cell_type": "code",
   "execution_count": 54,
   "metadata": {},
   "outputs": [
    {
     "data": {
      "text/plain": [
       "1.98"
      ]
     },
     "execution_count": 54,
     "metadata": {},
     "output_type": "execute_result"
    }
   ],
   "source": [
    "df['Economy_Rate'].min()"
   ]
  },
  {
   "cell_type": "markdown",
   "metadata": {},
   "source": [
    "minimum economy Rate = 1.98 "
   ]
  },
  {
   "cell_type": "code",
   "execution_count": 55,
   "metadata": {},
   "outputs": [
    {
     "data": {
      "text/plain": [
       "3.46"
      ]
     },
     "execution_count": 55,
     "metadata": {},
     "output_type": "execute_result"
    }
   ],
   "source": [
    "df['Economy_Rate'].max()"
   ]
  },
  {
   "cell_type": "markdown",
   "metadata": {},
   "source": [
    "Max Economy Rate = 3.46"
   ]
  },
  {
   "cell_type": "markdown",
   "metadata": {},
   "source": [
    "# Calculating Strike Rate "
   ]
  },
  {
   "cell_type": "code",
   "execution_count": 58,
   "metadata": {},
   "outputs": [
    {
     "data": {
      "text/plain": [
       "0     55.0\n",
       "1     57.4\n",
       "2     56.3\n",
       "3     65.9\n",
       "4     51.9\n",
       "      ... \n",
       "74    54.0\n",
       "75    67.6\n",
       "76    55.1\n",
       "77    59.5\n",
       "78    52.6\n",
       "Name: Strike_Rate, Length: 79, dtype: float64"
      ]
     },
     "execution_count": 58,
     "metadata": {},
     "output_type": "execute_result"
    }
   ],
   "source": [
    "\n",
    "df['Strike_Rate'] = df['SR']\n",
    "df['Strike_Rate']"
   ]
  },
  {
   "cell_type": "code",
   "execution_count": 59,
   "metadata": {},
   "outputs": [
    {
     "data": {
      "text/plain": [
       "41.2"
      ]
     },
     "execution_count": 59,
     "metadata": {},
     "output_type": "execute_result"
    }
   ],
   "source": [
    "df['Strike_Rate'].min()"
   ]
  },
  {
   "cell_type": "markdown",
   "metadata": {},
   "source": [
    "Lowest Strike rate = 41.2 "
   ]
  },
  {
   "cell_type": "markdown",
   "metadata": {},
   "source": [
    "# Calculating Average "
   ]
  },
  {
   "cell_type": "code",
   "execution_count": 60,
   "metadata": {},
   "outputs": [
    {
     "data": {
      "text/plain": [
       "20.94"
      ]
     },
     "execution_count": 60,
     "metadata": {},
     "output_type": "execute_result"
    }
   ],
   "source": [
    "df['Average'] = df['Ave']\n",
    "df['Average'].min()"
   ]
  },
  {
   "cell_type": "markdown",
   "metadata": {},
   "source": [
    "Lowest Average = 20.94"
   ]
  },
  {
   "cell_type": "code",
   "execution_count": null,
   "metadata": {},
   "outputs": [],
   "source": []
  }
 ],
 "metadata": {
  "kernelspec": {
   "display_name": "Python 3",
   "language": "python",
   "name": "python3"
  },
  "language_info": {
   "codemirror_mode": {
    "name": "ipython",
    "version": 3
   },
   "file_extension": ".py",
   "mimetype": "text/x-python",
   "name": "python",
   "nbconvert_exporter": "python",
   "pygments_lexer": "ipython3",
   "version": "3.8.5"
  }
 },
 "nbformat": 4,
 "nbformat_minor": 4
}
